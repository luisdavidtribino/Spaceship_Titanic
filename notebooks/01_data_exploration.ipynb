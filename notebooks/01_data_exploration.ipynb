{
 "cells": [
  {
   "cell_type": "markdown",
   "metadata": {},
   "source": [
    "#  Titanic Espacial\n",
    "Predecir qué pasajeros son transportados a una dimensión alternativa"
   ]
  },
  {
   "cell_type": "markdown",
   "metadata": {},
   "source": [
    "\n",
    "La nave espacial Titanic fue un transatlántico interestelar lanzado hace un mes. Con casi 13.000 pasajeros a bordo, la nave emprendió su viaje inaugural transportando emigrantes de nuestro sistema solar a tres exoplanetas recientemente habitables que orbitan estrellas cercanas.\n",
    "\n",
    "Mientras rodeaba Alpha Centauri en ruta hacia su primer destino, el tórrido 55 Cancri E, la incauta nave espacial Titanic chocó con una anomalía del espacio-tiempo escondida dentro de una nube de polvo. Lamentablemente, corrió un destino similar al de su homónimo de 1000 años antes. Aunque el barco permaneció intacto, ¡casi la mitad de los pasajeros fueron transportados a una dimensión alternativa!\n",
    "\n",
    "Para ayudar a los equipos de rescate y recuperar a los pasajeros perdidos, tenemos el desafío de predecir qué pasajeros fueron transportados por la anomalía utilizando registros recuperados del sistema informático dañado de la nave espacial.\n",
    "\n",
    "Vamos a salvarlos y cambiar la historia!\n",
    "\n",
    "\n",
    "\n",
    "\n",
    "\n",
    "\n",
    "\n"
   ]
  },
  {
   "cell_type": "markdown",
   "metadata": {},
   "source": [
    "### Capítulo 1: Un mensaje del espacio\n",
    "\n",
    "Recibí los datos, como un mensaje del espacio distante. Ahora, organizo las herramientas para navegar en este desafío."
   ]
  },
  {
   "cell_type": "code",
   "execution_count": 15,
   "metadata": {},
   "outputs": [],
   "source": [
    "import pandas as pd"
   ]
  },
  {
   "cell_type": "code",
   "execution_count": 16,
   "metadata": {},
   "outputs": [
    {
     "name": "stdout",
     "output_type": "stream",
     "text": [
      "Importamos los datos  y visualizamos la informacion Basica\n",
      "\n",
      "Tenemos  8693 registros y  14 columnas en el dataframe de entrenamiento\n",
      "Tenemos  4277 registros y  13 columnas en el dataframe de pruebas \n",
      "Podemos resumir que en la nave viajaban  12970 personas\n"
     ]
    }
   ],
   "source": [
    "print(\"Importamos los datos  y visualizamos la informacion Basica\")\n",
    "print(\"\")\n",
    "train_data=pd.read_csv('../data/train.csv')\n",
    "test_data=pd.read_csv('../data/test.csv')\n",
    "print(\"Tenemos \", train_data.shape[0], \"registros y \",train_data.shape[1],\"columnas en el dataframe de entrenamiento\")\n",
    "print(\"Tenemos \", test_data.shape[0], \"registros y \",test_data.shape[1],\"columnas en el dataframe de pruebas \")\n",
    "print(\"Podemos resumir que en la nave viajaban \", train_data.shape[0]+test_data.shape[0], \"personas\")"
   ]
  },
  {
   "cell_type": "code",
   "execution_count": 17,
   "metadata": {},
   "outputs": [
    {
     "name": "stdout",
     "output_type": "stream",
     "text": [
      "<class 'pandas.core.frame.DataFrame'>\n",
      "RangeIndex: 8693 entries, 0 to 8692\n",
      "Data columns (total 14 columns):\n",
      " #   Column        Non-Null Count  Dtype  \n",
      "---  ------        --------------  -----  \n",
      " 0   PassengerId   8693 non-null   object \n",
      " 1   HomePlanet    8492 non-null   object \n",
      " 2   CryoSleep     8476 non-null   object \n",
      " 3   Cabin         8494 non-null   object \n",
      " 4   Destination   8511 non-null   object \n",
      " 5   Age           8514 non-null   float64\n",
      " 6   VIP           8490 non-null   object \n",
      " 7   RoomService   8512 non-null   float64\n",
      " 8   FoodCourt     8510 non-null   float64\n",
      " 9   ShoppingMall  8485 non-null   float64\n",
      " 10  Spa           8510 non-null   float64\n",
      " 11  VRDeck        8505 non-null   float64\n",
      " 12  Name          8493 non-null   object \n",
      " 13  Transported   8693 non-null   bool   \n",
      "dtypes: bool(1), float64(6), object(7)\n",
      "memory usage: 891.5+ KB\n"
     ]
    }
   ],
   "source": [
    "train_data.info()"
   ]
  },
  {
   "cell_type": "markdown",
   "metadata": {},
   "source": [
    "## Descripcion de las columnas de nuestro dataset\n",
    "\n",
    "| Columna     | Descripción |\n",
    "|-------------|-------------|\n",
    "| PassengerId | Un ID único para cada pasajero. Cada ID toma la forma gggg_pp donde gggg indica un grupo con el que el pasajero está viajando y pp es su número dentro del grupo. Las personas en un grupo son a menudo miembros de la familia, pero no siempre. |\n",
    "| HomePlanet  | El planeta del cual el pasajero partió, generalmente su planeta de residencia permanente. |\n",
    "| CryoSleep   | Indica si el pasajero eligió entrar en animación suspendida durante la duración del viaje. Los pasajeros en criosueño están confinados a sus cabinas. |\n",
    "| Cabin       | El número de la cabina donde el pasajero se aloja. Tiene la forma deck/num/side, donde side puede ser P para babor o S para estribor. |\n",
    "| Destination | El planeta al que el pasajero desembarcará. |\n",
    "| Age         | La edad del pasajero. |\n",
    "| VIP         | Si el pasajero ha pagado por un servicio VIP especial durante el viaje. |\n",
    "| RoomService, FoodCourt, ShoppingMall, Spa, VRDeck | La cantidad que el pasajero ha facturado en cada una de las muchas comodidades de lujo de la Spaceship Titanic. |\n",
    "| Name        | El primer y último nombre del pasajero. |\n",
    "| Transported | Si el pasajero fue transportado a otra dimensión. Esta es la variable objetivo que intentamos predecir. |\n"
   ]
  },
  {
   "cell_type": "code",
   "execution_count": null,
   "metadata": {},
   "outputs": [],
   "source": [
    "print(\"Los Primeros 10 registros\")\n",
    "train_data.head(10)"
   ]
  },
  {
   "cell_type": "code",
   "execution_count": null,
   "metadata": {},
   "outputs": [],
   "source": [
    "print(\"Los ultimos 10 registros\")\n",
    "train_data.tail(10)"
   ]
  }
 ],
 "metadata": {
  "kernelspec": {
   "display_name": "Python 3 (ipykernel)",
   "language": "python",
   "name": "python3"
  },
  "language_info": {
   "codemirror_mode": {
    "name": "ipython",
    "version": 3
   },
   "file_extension": ".py",
   "mimetype": "text/x-python",
   "name": "python",
   "nbconvert_exporter": "python",
   "pygments_lexer": "ipython3",
   "version": "3.11.4"
  }
 },
 "nbformat": 4,
 "nbformat_minor": 4
}
